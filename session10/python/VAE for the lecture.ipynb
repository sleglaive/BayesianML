{
 "cells": [
  {
   "cell_type": "code",
   "execution_count": 1,
   "metadata": {},
   "outputs": [],
   "source": [
    "# tested with pytorch 1.2.0 \n",
    "\n",
    "# import matplotlib\n",
    "# matplotlib.use('Qt4Agg') # if problem with PyQt5\n",
    "import matplotlib.pyplot as plt\n",
    "my_seed = 0\n",
    "import numpy as np\n",
    "np.random.seed(my_seed)\n",
    "import torch\n",
    "torch.manual_seed(my_seed)\n",
    "import torch.nn as nn\n",
    "from utils import to_img, plot_reconstructions_VAE, display_digits\n",
    "%matplotlib inline"
   ]
  },
  {
   "cell_type": "code",
   "execution_count": 2,
   "metadata": {},
   "outputs": [
    {
     "name": "stdout",
     "output_type": "stream",
     "text": [
      "Using gpu: True \n"
     ]
    }
   ],
   "source": [
    "device = torch.device(\"cuda:0\" if torch.cuda.is_available() else \"cpu\")\n",
    "\n",
    "print('Using gpu: %s ' % torch.cuda.is_available())"
   ]
  },
  {
   "cell_type": "markdown",
   "metadata": {},
   "source": [
    "# Variational autoencoder"
   ]
  },
  {
   "cell_type": "markdown",
   "metadata": {},
   "source": [
    "## Generative model\n",
    "\n",
    "Let $\\mathbf{x} \\in \\mathbb{R}^D$ and $\\mathbf{z} \\in \\mathbb{R}^K$ be two random vectors (with $K \\ll D$). \n",
    "\n",
    "**Generative model**: We consider the following generative model:\n",
    "\n",
    "\n",
    "$$p(\\mathbf{z}) = \\mathcal{N}(\\mathbf{0}, \\mathbf{I})$$\n",
    "\n",
    "$$p(\\mathbf{x} | \\mathbf{z} ; \\theta ) = \\mathcal{N}\\left( \\boldsymbol{\\mu}_\\theta(\\mathbf{z}), \\mathbf{I} \\right)$$\n",
    "\n",
    "The decoder outputs $\\boldsymbol{\\mu}_\\theta(\\mathbf{z})$. In theory, the mean of a Gaussian distribution lies in $]- \\infty, +\\infty[$. However, we know that our data (MNIST images) lie in $[0, 1]^D$, so we expect the mean of $p(\\mathbf{x} | \\mathbf{z} ; \\theta )$ to be in this interval too. This can be enforced by using a sigmoid activation function on the output layer."
   ]
  },
  {
   "cell_type": "code",
   "execution_count": 3,
   "metadata": {},
   "outputs": [],
   "source": [
    "class VAE(nn.Module):\n",
    "    \n",
    "    def __init__(self, input_dim, encoding_dim):\n",
    "        \n",
    "        super(VAE, self).__init__()\n",
    "        \n",
    "        self.decoder_fc1 = nn.Linear(encoding_dim, 128)\n",
    "        self.decoder_fc2 = nn.Linear(128, 512)\n",
    "        self.decoder_output_mean = nn.Linear(512, input_dim)\n",
    "        \n",
    "        self.relu = nn.ReLU()\n",
    "        self.sigmoid = nn.Sigmoid()\n",
    "\n",
    "    def decode(self, z):\n",
    "        \"\"\"\n",
    "        From a latent vector, this function computes and returns \n",
    "        the mean of p(x|z).\n",
    "        \"\"\"\n",
    "    \n",
    "        z = self.relu(self.decoder_fc1(z))\n",
    "        z = self.relu(self.decoder_fc2(z))\n",
    "        z = self.sigmoid(self.decoder_output_mean(z)) \n",
    "        \n",
    "        return z\n",
    "        \n",
    "    def forward(self, x):\n",
    "        \n",
    "        pass"
   ]
  },
  {
   "cell_type": "markdown",
   "metadata": {},
   "source": [
    "We instantiate the model:"
   ]
  },
  {
   "cell_type": "code",
   "execution_count": 4,
   "metadata": {},
   "outputs": [
    {
     "name": "stdout",
     "output_type": "stream",
     "text": [
      "VAE(\n",
      "  (decoder_fc1): Linear(in_features=16, out_features=128, bias=True)\n",
      "  (decoder_fc2): Linear(in_features=128, out_features=512, bias=True)\n",
      "  (decoder_output_mean): Linear(in_features=512, out_features=784, bias=True)\n",
      "  (relu): ReLU()\n",
      "  (sigmoid): Sigmoid()\n",
      ")\n"
     ]
    }
   ],
   "source": [
    "encoding_dim = 16\n",
    "input_dim = 784 # images of 28 x 28 pixels\n",
    "\n",
    "model = VAE(input_dim, encoding_dim)\n",
    "\n",
    "model = model.to(device)\n",
    "\n",
    "print(model)"
   ]
  },
  {
   "cell_type": "markdown",
   "metadata": {},
   "source": [
    "We sample from the model."
   ]
  },
  {
   "cell_type": "code",
   "execution_count": 5,
   "metadata": {},
   "outputs": [],
   "source": [
    "def sample_VAE(model, encoding_dim):\n",
    "    with torch.no_grad():\n",
    "        # sample a Gaussian random vector with zero mean and identity covariance matrix\n",
    "        z = torch.randn(1,encoding_dim).to(device)\n",
    "        # pass it through the decoder\n",
    "        x = model.decode(z).reshape(28,28).cpu()\n",
    "    return x"
   ]
  },
  {
   "cell_type": "code",
   "execution_count": 6,
   "metadata": {},
   "outputs": [
    {
     "data": {
      "image/png": "[encoded data removed]",
      "text/plain": [
       "<Figure size 360x360 with 1 Axes>"
      ]
     },
     "metadata": {
      "needs_background": "light"
     },
     "output_type": "display_data"
    }
   ],
   "source": [
    "x = sample_VAE(model, encoding_dim)\n",
    "\n",
    "display_digits(x[np.newaxis, np.newaxis, :], n_i=1, n_j=1, figsize=(5, 5))"
   ]
  },
  {
   "cell_type": "markdown",
   "metadata": {},
   "source": [
    "## Inference model\n",
    "\n",
    "\n",
    "**Inference model**: We consider the following inference model:\n",
    "\n",
    "$$q(\\mathbf{z} | \\mathbf{x}; \\phi) = \\mathcal{N}\\left( \\boldsymbol{\\mu}_\\phi(\\mathbf{x}), \\text{diag}\\left\\{ \\mathbf{v}_\\phi(\\mathbf{x}) \\right\\} \\right)$$\n",
    "\n",
    "\n",
    "The encoder outputs $\\boldsymbol{\\mu}_\\phi(\\mathbf{x})$ and $\\mathbf{v}_\\phi(\\mathbf{x})$. A variance has to be positive, so a common practice consists in considering that the network ouputs the logarithm of the variance. You have to properly choose the activation function of the output layer of the encoder based on this information."
   ]
  },
  {
   "cell_type": "code",
   "execution_count": 7,
   "metadata": {},
   "outputs": [],
   "source": [
    "class VAE(nn.Module):\n",
    "    \n",
    "    def __init__(self, input_dim, encoding_dim):\n",
    "        \n",
    "        super(VAE, self).__init__()\n",
    "        \n",
    "        self.encoder_fc1 = nn.Linear(input_dim, 512)\n",
    "        self.encoder_fc2 = nn.Linear(512, 128)\n",
    "        self.encoder_output_mean = nn.Linear(128, encoding_dim)\n",
    "        self.encoder_output_log_var = nn.Linear(128, encoding_dim)\n",
    "        \n",
    "        self.decoder_fc1 = nn.Linear(encoding_dim, 128)\n",
    "        self.decoder_fc2 = nn.Linear(128, 512)\n",
    "        self.decoder_output_mean = nn.Linear(512, input_dim)\n",
    "        \n",
    "        self.relu = nn.ReLU()\n",
    "        self.sigmoid = nn.Sigmoid()\n",
    "        \n",
    "    def encode(self, x):\n",
    "        \"\"\"\n",
    "        From an input vector (MNIST image), this function computes \n",
    "        and returns the mean and log-variance of q(z|x).\n",
    "        \"\"\"\n",
    "        \n",
    "        x = self.relu(self.encoder_fc1(x))\n",
    "        x = self.relu(self.encoder_fc2(x))\n",
    "        \n",
    "        return self.encoder_output_mean(x), self.encoder_output_log_var(x)\n",
    "        \n",
    "    def decode(self, z):\n",
    "        \"\"\"\n",
    "        From a latent vector, this function computes and returns \n",
    "        the mean of p(x|z).\n",
    "        \"\"\"\n",
    "        \n",
    "        z = self.relu(self.decoder_fc1(z))\n",
    "        z = self.relu(self.decoder_fc2(z))\n",
    "        z = self.sigmoid(self.decoder_output_mean(z)) \n",
    "        \n",
    "        return z\n",
    "    \n",
    "    def forward(self, x):\n",
    "        \n",
    "        pass"
   ]
  },
  {
   "cell_type": "markdown",
   "metadata": {},
   "source": [
    "## Almost complete VAE model"
   ]
  },
  {
   "cell_type": "code",
   "execution_count": 8,
   "metadata": {},
   "outputs": [],
   "source": [
    "class VAE(nn.Module):\n",
    "    def __init__(self, input_dim, encoding_dim):\n",
    "        super(VAE, self).__init__()\n",
    "        \n",
    "        self.encoder_fc1 = nn.Linear(input_dim, 512)\n",
    "        self.encoder_fc2 = nn.Linear(512, 128)\n",
    "        self.encoder_output_mean = nn.Linear(128, encoding_dim)\n",
    "        self.encoder_output_log_var = nn.Linear(128, encoding_dim)\n",
    "        \n",
    "        self.decoder_fc1 = nn.Linear(encoding_dim, 128)\n",
    "        self.decoder_fc2 = nn.Linear(128, 512)\n",
    "        self.decoder_output_mean = nn.Linear(512, input_dim)\n",
    "        \n",
    "        self.relu = nn.ReLU()\n",
    "        self.sigmoid = nn.Sigmoid()\n",
    "        \n",
    "    def encode(self, x):\n",
    "        \"\"\"\n",
    "        From an input vector (MNIST image), this function computes \n",
    "        and returns the mean and log-variance of q(z|x).\n",
    "        \"\"\"\n",
    "        x = self.relu(self.encoder_fc1(x))\n",
    "        x = self.relu(self.encoder_fc2(x))\n",
    "        return self.encoder_output_mean(x), self.encoder_output_log_var(x)\n",
    "        \n",
    "    def decode(self, z):\n",
    "        \"\"\"\n",
    "        From a latent vector, this function computes and returns \n",
    "        the mean of p(x|z).\n",
    "        \"\"\"\n",
    "        z = self.relu(self.decoder_fc1(z))\n",
    "        z = self.relu(self.decoder_fc2(z))\n",
    "        z = self.sigmoid(self.decoder_output_mean(z)) \n",
    "        return z\n",
    "    \n",
    "    def reparameterize(self, mu, log_var):\n",
    "        \"\"\"\n",
    "        From the mean and log-variance of q(z|x), this function returns a \n",
    "        latent vector drawn from q(z|x) using the reparametrization trick.\n",
    "        \"\"\"\n",
    "        ######### TO COMPLETE #########\n",
    "\n",
    "        ###############################\n",
    "    \n",
    "    def forward(self, x):\n",
    "        \n",
    "        mu, log_var = self.encode(x)\n",
    "        z = self.reparameterize(mu, log_var)\n",
    "        x_hat = self.decode(z)\n",
    "        \n",
    "        return x_hat, mu, log_var"
   ]
  },
  {
   "cell_type": "markdown",
   "metadata": {},
   "source": [
    "In the forward, between encoding and decoding, we have to sample from the inference model using the reparametrization trick. \n",
    "\n",
    "Complete the ```reparameterize``` function (3 lines of code). \n",
    "\n",
    "You can use the following PyTorch functions: [torch.randn_like](https://pytorch.org/docs/stable/torch.html#torch.randn_like) and [torch.exp](https://pytorch.org/docs/stable/torch.html#torch.exp)."
   ]
  }
 ],
 "metadata": {
  "kernelspec": {
   "display_name": "Python 3",
   "language": "python",
   "name": "python3"
  },
  "language_info": {
   "codemirror_mode": {
    "name": "ipython",
    "version": 3
   },
   "file_extension": ".py",
   "mimetype": "text/x-python",
   "name": "python",
   "nbconvert_exporter": "python",
   "pygments_lexer": "ipython3",
   "version": "3.8.3"
  }
 },
 "nbformat": 4,
 "nbformat_minor": 4
}
