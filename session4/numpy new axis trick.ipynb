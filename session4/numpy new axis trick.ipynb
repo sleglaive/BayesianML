{
 "cells": [
  {
   "cell_type": "markdown",
   "metadata": {},
   "source": [
    "Some of you have difficulties updating the covariance matrix. \n",
    "\n",
    "This update involves the outer product of a vector of dimension 2. \n",
    "\n",
    "Let's denote by $\\mathbf{x}$ this column vector of dimension 2. The outer-product is defined by:\n",
    "\n",
    "$ \\mathbf{S} = \\mathbf{x} \\mathbf{x}^T $\n",
    "\n",
    "and it gives a matrix of dimension 2x2.\n",
    "\n",
    "Let's try to do that with numpy.\n"
   ]
  },
  {
   "cell_type": "code",
   "execution_count": 10,
   "metadata": {},
   "outputs": [
    {
     "name": "stdout",
     "output_type": "stream",
     "text": [
      "(2,)\n"
     ]
    }
   ],
   "source": [
    "import numpy as np\n",
    "\n",
    "x = np.random.randn(2)\n",
    "print(x.shape)"
   ]
  },
  {
   "cell_type": "markdown",
   "metadata": {},
   "source": [
    "Ok, we have a vector of dimension 2. Let's compute the outer-product."
   ]
  },
  {
   "cell_type": "code",
   "execution_count": 12,
   "metadata": {},
   "outputs": [
    {
     "name": "stdout",
     "output_type": "stream",
     "text": [
      "()\n",
      "1.1427264784822493\n"
     ]
    }
   ],
   "source": [
    "S = x @ x.T\n",
    "\n",
    "print(S.shape)\n",
    "print(S)"
   ]
  },
  {
   "cell_type": "markdown",
   "metadata": {},
   "source": [
    "Wow, this is not the expected result. Indeed, this is because your numpy array has one single dimension, it is of shape (2,). To be able to transpose the array, it should have two dimensions, i.e. it should be of shape (2,1). You can use ```np.newaxis``` for that, as shown below:"
   ]
  },
  {
   "cell_type": "code",
   "execution_count": 13,
   "metadata": {},
   "outputs": [
    {
     "name": "stdout",
     "output_type": "stream",
     "text": [
      "(2, 1)\n",
      "(2, 2)\n"
     ]
    }
   ],
   "source": [
    "print(x[:,np.newaxis].shape)\n",
    "\n",
    "S = x[:,np.newaxis] @ x[:,np.newaxis].T\n",
    "\n",
    "print(S.shape)"
   ]
  }
 ],
 "metadata": {
  "kernelspec": {
   "display_name": "Python 3",
   "language": "python",
   "name": "python3"
  },
  "language_info": {
   "codemirror_mode": {
    "name": "ipython",
    "version": 3
   },
   "file_extension": ".py",
   "mimetype": "text/x-python",
   "name": "python",
   "nbconvert_exporter": "python",
   "pygments_lexer": "ipython3",
   "version": "3.7.10"
  }
 },
 "nbformat": 4,
 "nbformat_minor": 2
}
