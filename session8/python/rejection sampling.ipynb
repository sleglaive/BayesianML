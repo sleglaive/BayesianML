{
 "cells": [
  {
   "cell_type": "markdown",
   "id": "developmental-roads",
   "metadata": {},
   "source": [
    "## Rejection sampling"
   ]
  },
  {
   "cell_type": "code",
   "execution_count": null,
   "id": "fatal-andrew",
   "metadata": {},
   "outputs": [],
   "source": [
    "import numpy as np"
   ]
  },
  {
   "cell_type": "code",
   "execution_count": null,
   "id": "gothic-employer",
   "metadata": {},
   "outputs": [],
   "source": [
    "import scipy.stats as st\n",
    "import seaborn as sns\n",
    "import matplotlib.pyplot as plt\n",
    "\n",
    "sns.set()\n",
    "\n",
    "def p(x):\n",
    "    return st.norm.pdf(x, loc=30, scale=10) + st.norm.pdf(x, loc=80, scale=20)\n",
    "\n",
    "def q(x):\n",
    "    return st.norm.pdf(x, loc=50, scale=30)\n",
    "\n",
    "x = np.arange(-50, 151)\n",
    "M = max(p(x) / q(x))\n",
    "\n",
    "def rejection_sampling(iter=1000):\n",
    "    samples = []\n",
    "    \n",
    "    # TO COMPLETE\n",
    "    # Use np.random\n",
    "    \n",
    "    return np.array(samples)"
   ]
  },
  {
   "cell_type": "code",
   "execution_count": null,
   "id": "electoral-mercy",
   "metadata": {},
   "outputs": [],
   "source": [
    "print(M)\n",
    "fig = plt.figure(figsize=(10,5))\n",
    "ax = fig.subplots(1,1)\n",
    "ax.plot(x, p(x))\n",
    "ax.plot(x, M*q(x))\n",
    "plt.xlim([-50, 150])"
   ]
  },
  {
   "cell_type": "code",
   "execution_count": null,
   "id": "common-scheme",
   "metadata": {},
   "outputs": [],
   "source": [
    "s = rejection_sampling(iter=10000)"
   ]
  },
  {
   "cell_type": "code",
   "execution_count": null,
   "id": "external-communist",
   "metadata": {},
   "outputs": [],
   "source": [
    "fig = plt.figure(figsize=(10,5))\n",
    "ax = fig.subplots(1,1)\n",
    "sns.histplot(s, ax=ax)\n",
    "plt.xlim([-50, 150])"
   ]
  }
 ],
 "metadata": {
  "kernelspec": {
   "display_name": "Python 3",
   "language": "python",
   "name": "python3"
  },
  "language_info": {
   "codemirror_mode": {
    "name": "ipython",
    "version": 3
   },
   "file_extension": ".py",
   "mimetype": "text/x-python",
   "name": "python",
   "nbconvert_exporter": "python",
   "pygments_lexer": "ipython3",
   "version": "3.7.10"
  }
 },
 "nbformat": 4,
 "nbformat_minor": 5
}
